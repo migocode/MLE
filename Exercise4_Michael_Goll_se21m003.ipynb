{
 "cells": [
  {
   "cell_type": "code",
   "execution_count": 106,
   "metadata": {
    "collapsed": false
   },
   "outputs": [],
   "source": [
    "import os\n",
    "\n",
    "# if you want to use the GPU\n",
    "# device = 'gpu'\n",
    "# os.environ['THEANO_FLAGS']='mode=FAST_RUN,device=' + device + ',floatX=float32'\n",
    "\n",
    "import argparse\n",
    "import csv\n",
    "import datetime\n",
    "import glob\n",
    "import math\n",
    "import sys\n",
    "import time\n",
    "import numpy as np\n",
    "\n",
    "from PIL import Image # Pillow module\n",
    "#from theano import config\n",
    "from sklearn.metrics import accuracy_score\n",
    "\n",
    "# import keras\n",
    "# from keras.models import Sequential\n",
    "# from keras.layers import Convolution2D, MaxPooling2D, Dense, Dropout, Activation, Flatten\n",
    "# from keras.layers.normalization import BatchNormalization\n",
    "\n",
    "from tensorflow import keras\n",
    "from keras.utils import np_utils\n",
    "\n",
    "np.random.seed(1) # we initialize a random seed here to make the experiments repeatable with same results"
   ]
  },
  {
   "cell_type": "markdown",
   "metadata": {},
   "source": [
    "## Load the Images from Training Set"
   ]
  },
  {
   "cell_type": "markdown",
   "metadata": {},
   "source": [
    "# CIFAR Dataset\n",
    "\n",
    "The dataset contains 50.000 datapoints of images classified into 10 classes:\n",
    "- airplane\n",
    "- automobile\n",
    "- bird \t\n",
    "- cat \n",
    "- deer \n",
    "- dog \n",
    "- frog \t\n",
    "- horse \n",
    "- ship \n",
    "- truck\n",
    "\n",
    "The images are 32 x 32 pixels in size and consists of 3 channels (rgb). Each class consists of 5000 images."
   ]
  },
  {
   "cell_type": "markdown",
   "metadata": {},
   "source": [
    "The source contains the files data_batch_1, data_batch_2, data_batch_3, data_batch_4, data_batch_5, as well as test_batch. Each of these files is a Python \"pickled\" object produced with cPickle. Here is a python routine which will open such a file and return a dictionary: "
   ]
  },
  {
   "cell_type": "code",
   "execution_count": 107,
   "metadata": {},
   "outputs": [],
   "source": [
    "def unpickle(file) -> dict:\n",
    "    import pickle\n",
    "    with open(file, 'rb') as fo:\n",
    "        dict = pickle.load(fo, encoding='bytes')\n",
    "    return dict"
   ]
  },
  {
   "cell_type": "code",
   "execution_count": 108,
   "metadata": {
    "collapsed": false
   },
   "outputs": [
    {
     "name": "stdout",
     "output_type": "stream",
     "text": [
      "Found 5 files\n"
     ]
    }
   ],
   "source": [
    "path = 'Data\\CIFAR'\n",
    "files = glob.glob(os.path.join(path, '*_*'))\n",
    "print(\"Found \" + str(len(files)) + \" files\")"
   ]
  },
  {
   "cell_type": "markdown",
   "metadata": {},
   "source": [
    "## Make 1 big dictionary of training data"
   ]
  },
  {
   "cell_type": "code",
   "execution_count": 109,
   "metadata": {
    "collapsed": false
   },
   "outputs": [
    {
     "name": "stdout",
     "output_type": "stream",
     "text": [
      "Unpickling Data\\CIFAR\\data_batch_3\n",
      "Unpickling Data\\CIFAR\\data_batch_4\n",
      "Unpickling Data\\CIFAR\\data_batch_5\n",
      "Unpickling Data\\CIFAR\\data_batch_1\n",
      "Unpickling Data\\CIFAR\\data_batch_2\n",
      "# Classifications: 50000\n",
      "# Images: 50000\n",
      "# Filenames: 50000\n",
      "Shape of the image data-array: (50000, 3072)\n",
      "[[ 26  17  13 ...  27  26  27]\n",
      " [ 94 101  95 ... 182 184 155]\n",
      " [183 158 166 ... 250 250 250]\n",
      " ...\n",
      " [127 139 155 ... 197 192 191]\n",
      " [190 200 208 ... 163 182 192]\n",
      " [177 174 182 ... 119 127 136]]\n"
     ]
    }
   ],
   "source": [
    "data = {b'labels': [], b'data': np.empty([0,3072], dtype=np.uint8) , b'filenames': [] }\n",
    "\n",
    "for filename in files:\n",
    "    print(\"Unpickling \" + filename)\n",
    "    newData = unpickle(filename)\n",
    "    data[b'labels'].extend(newData[b'labels'])\n",
    "    data[b'data'] = np.append(data[b'data'], newData[b'data'], axis=0)\n",
    "    data[b'filenames'].extend(newData[b'filenames'])\n",
    "    \n",
    "print(\"# Classifications: \" + str(len(data[b'labels'])))\n",
    "print(\"# Images: \" + str(len(data[b'data'])))\n",
    "print(\"# Filenames: \" + str(len(data[b'filenames'])))\n",
    "\n",
    "print(\"Shape of the image data-array: \" + str(data[b'data'].shape))\n",
    "\n",
    "print(str(data[b'data']))\n"
   ]
  },
  {
   "cell_type": "markdown",
   "metadata": {},
   "source": [
    "The resulting dictionary for one file most importantly contains\n",
    "\n",
    "- **data:** a 10000x3072 numpy array of uint8s. Each row of the array stores a 32x32 colour image. The first 1024 entries contain the red channel values, the next 1024 the green, and the final 1024 the blue. The image is stored in row-major order, so that the first 32 entries of the array are the red channel values of the first row of the image. \n",
    "- **labels:** a list of 10000 numbers in the range 0-9. The number at index i indicates the label of the ith image in the array data."
   ]
  },
  {
   "cell_type": "markdown",
   "metadata": {},
   "source": [
    "Looking at the first image. It is gorgeous."
   ]
  },
  {
   "cell_type": "code",
   "execution_count": 110,
   "metadata": {},
   "outputs": [
    {
     "data": {
      "image/png": "[encoded data removed]",
      "text/plain": [
       "<PIL.Image.Image image mode=RGB size=32x32>"
      ]
     },
     "execution_count": 110,
     "metadata": {},
     "output_type": "execute_result"
    }
   ],
   "source": [
    "red = np.asarray(np.split(data[b'data'][0][0:1024], indices_or_sections=32))\n",
    "green = np.asarray(np.split(data[b'data'][0][1024:2048], indices_or_sections=32))\n",
    "blue = np.asarray(np.split(data[b'data'][0][2048:3072], indices_or_sections=32))\n",
    "redImage = Image.fromarray(red)\n",
    "greenImage = Image.fromarray(green)\n",
    "blueImage = Image.fromarray(blue)\n",
    "Image.merge('RGB', (redImage, greenImage, blueImage))\n"
   ]
  },
  {
   "cell_type": "markdown",
   "metadata": {},
   "source": [
    "## What is the ground truth?\n",
    "\n",
    "The gound truth can be found in the ditctionary-item \"labels\". There are 50.000 classifications (as many as images) as numbers from 0 to 9."
   ]
  },
  {
   "cell_type": "code",
   "execution_count": 111,
   "metadata": {
    "collapsed": false
   },
   "outputs": [
    {
     "data": {
      "text/plain": [
       "[8, 5, 0, 6, 9, 2, 8, 3, 6, 2, 7, 4, 6, 9, 0, 0, 7, 3, 7, 2, 5, 6, 6, 0, 9]"
      ]
     },
     "execution_count": 111,
     "metadata": {},
     "output_type": "execute_result"
    }
   ],
   "source": [
    "# look at the first 25 classes\n",
    "data[b'labels'][0:25]"
   ]
  },
  {
   "cell_type": "code",
   "execution_count": 112,
   "metadata": {},
   "outputs": [
    {
     "name": "stdout",
     "output_type": "stream",
     "text": [
      "# Classes: 10\n"
     ]
    }
   ],
   "source": [
    "classes_count = len(set(data[b'labels']))\n",
    "print(\"# Classes: \" + str(classes_count))"
   ]
  },
  {
   "cell_type": "code",
   "execution_count": 43,
   "metadata": {
    "collapsed": false
   },
   "outputs": [
    {
     "name": "stdout",
     "output_type": "stream",
     "text": [
      "Groundtruth Statistics:\n",
      "Class 0: 5000\n",
      "Class 1: 5000\n",
      "Class 2: 5000\n",
      "Class 3: 5000\n",
      "Class 4: 5000\n",
      "Class 5: 5000\n",
      "Class 6: 5000\n",
      "Class 7: 5000\n",
      "Class 8: 5000\n",
      "Class 9: 5000\n"
     ]
    }
   ],
   "source": [
    "print(\"Groundtruth Statistics:\")\n",
    "\n",
    "for v in set(data[b'labels']):\n",
    "    print(\"Class \" + str(v) + \": \" + str(data[b'labels'].count(v)))"
   ]
  },
  {
   "cell_type": "code",
   "execution_count": 52,
   "metadata": {},
   "outputs": [
    {
     "name": "stdout",
     "output_type": "stream",
     "text": [
      "[[0. 0. 0. ... 0. 1. 0.]\n",
      " [0. 0. 0. ... 0. 0. 0.]\n",
      " [1. 0. 0. ... 0. 0. 0.]\n",
      " ...\n",
      " [0. 0. 0. ... 1. 0. 0.]\n",
      " [0. 0. 1. ... 0. 0. 0.]\n",
      " [0. 0. 0. ... 0. 0. 0.]]\n"
     ]
    }
   ],
   "source": [
    "class_categories = np_utils.to_categorical(data[b'labels'])\n",
    "print(class_categories)"
   ]
  },
  {
   "cell_type": "markdown",
   "metadata": {},
   "source": [
    "## Standardization\n",
    "\n",
    "<b>Always standardize</b> the data before feeding it into the Neural Network!\n",
    "\n",
    "Here we use <b>Zero-mean Unit-variance standardization</b> which means we deduct the mean and divide by the standard deviation.\n",
    "\n",
    "(Note: Here, we do this \"flat\", i.e. one mean and std.dev. for the whole image is computed over all pixels (not per pixel); in RGB images, standardization can be done e.g. for each colour channel individually; in other/non-image data sets, attribute-wise standardization should be applied)."
   ]
  },
  {
   "cell_type": "code",
   "execution_count": 45,
   "metadata": {
    "collapsed": false
   },
   "outputs": [
    {
     "name": "stdout",
     "output_type": "stream",
     "text": [
      "Image values statistics:\n",
      "min pixel value: 0\n",
      "max pixel value: 255\n",
      "mean pixel value: 120.70756512369792\n",
      "standard deviation: 64.15007589112118\n",
      "Standardized image's mean: -2.7083520611389153e-17\n",
      "Standardized image's standard deviation: 0.9999999999999994\n",
      "Standardized image's min: -1.881643372153901\n",
      "Standardized image's max: 2.093410381995964\n"
     ]
    }
   ],
   "source": [
    "print(\"Image values statistics:\")\n",
    "print(\"min pixel value: \" + str(data[b'data'].min()))\n",
    "print(\"max pixel value: \" + str(data[b'data'].max()))\n",
    "\n",
    "mean = data[b'data'].mean()\n",
    "stddev = data[b'data'].std()\n",
    "\n",
    "print(\"mean pixel value: \" + str(mean))\n",
    "print(\"standard deviation: \" + str(stddev))\n",
    "\n",
    "standardized_images = (data[b'data'] - mean) / stddev\n",
    "print(\"Standardized image's mean: \" + str(standardized_images.mean()))\n",
    "print(\"Standardized image's standard deviation: \" + str(standardized_images.std()))\n",
    "\n",
    "print(\"Standardized image's min: \" + str(standardized_images.min()))\n",
    "print(\"Standardized image's max: \" + str(standardized_images.max()))"
   ]
  },
  {
   "cell_type": "code",
   "execution_count": 46,
   "metadata": {},
   "outputs": [
    {
     "data": {
      "text/plain": [
       "array([[-1.47634377, -1.61663979, -1.67899357, ..., -1.46075533,\n",
       "        -1.47634377, -1.46075533],\n",
       "       [-0.41632944, -0.30721032, -0.40074099, ...,  0.95545382,\n",
       "         0.98663071,  0.53456577],\n",
       "       [ 0.97104226,  0.58133111,  0.70603868, ...,  2.01546815,\n",
       "         2.01546815,  2.01546815],\n",
       "       ...,\n",
       "       [ 0.09808928,  0.28515064,  0.53456577, ...,  1.18928051,\n",
       "         1.11133828,  1.09574983],\n",
       "       [ 1.08016139,  1.23604585,  1.36075342, ...,  0.65927334,\n",
       "         0.95545382,  1.11133828],\n",
       "       [ 0.87751159,  0.83074625,  0.95545382, ..., -0.02661829,\n",
       "         0.09808928,  0.2383853 ]])"
      ]
     },
     "execution_count": 46,
     "metadata": {},
     "output_type": "execute_result"
    }
   ],
   "source": [
    "standardized_images"
   ]
  },
  {
   "cell_type": "markdown",
   "metadata": {},
   "source": [
    "# Creating NN Models in Keras"
   ]
  },
  {
   "cell_type": "markdown",
   "metadata": {
    "collapsed": true
   },
   "source": [
    "## 1) Fully Connected NN\n",
    "\n",
    "For a fully connected neural network, the x and y axis of an image do not play a role at all. All pixels are considered as a completely individual input to the neural network. Therefore the 2D image arrays have to be flattened to a vector."
   ]
  },
  {
   "cell_type": "code",
   "execution_count": 47,
   "metadata": {
    "collapsed": false
   },
   "outputs": [
    {
     "name": "stdout",
     "output_type": "stream",
     "text": [
      "Input shape for NN: 3072\n"
     ]
    }
   ],
   "source": [
    "# find out input shape for NN, which is just a long vector (40x100 = 4000)\n",
    "input_shape = standardized_images.shape[1]\n",
    "print(\"Input shape for NN: \" + str(input_shape))"
   ]
  },
  {
   "cell_type": "markdown",
   "metadata": {},
   "source": [
    "### Creating a Model\n",
    "\n",
    "In Keras, one can choose between a Sequential model and a Graph model. Sequential models are the standard case. Graph models are for parallel networks and use the functional API.\n",
    "\n",
    "Here we create a sequential model with 2 fully connected (a.k.a. 'dense') layers containing 256 units each.\n",
    "\n",
    "The output unit is a Single sigmoid unit which can predict values between 0 and 1."
   ]
  },
  {
   "cell_type": "code",
   "execution_count": 66,
   "metadata": {
    "collapsed": false
   },
   "outputs": [],
   "source": [
    "# simple Fully-connected network\n",
    "\n",
    "model = keras.models.Sequential()\n",
    "\n",
    "model.add(keras.layers.Dense(256, input_dim=input_shape))\n",
    "model.add(keras.layers.Dense(256, activation='relu'))\n",
    "model.add(keras.layers.Dense(classes_count, activation='softmax'))\n"
   ]
  },
  {
   "cell_type": "code",
   "execution_count": 67,
   "metadata": {
    "collapsed": false,
    "scrolled": false
   },
   "outputs": [
    {
     "name": "stdout",
     "output_type": "stream",
     "text": [
      "Model: \"sequential_3\"\n",
      "_________________________________________________________________\n",
      " Layer (type)                Output Shape              Param #   \n",
      "=================================================================\n",
      " dense_9 (Dense)             (None, 256)               786688    \n",
      "                                                                 \n",
      " dense_10 (Dense)            (None, 256)               65792     \n",
      "                                                                 \n",
      " dense_11 (Dense)            (None, 10)                2570      \n",
      "                                                                 \n",
      "=================================================================\n",
      "Total params: 855,050\n",
      "Trainable params: 855,050\n",
      "Non-trainable params: 0\n",
      "_________________________________________________________________\n"
     ]
    }
   ],
   "source": [
    "model.summary()"
   ]
  },
  {
   "cell_type": "markdown",
   "metadata": {},
   "source": [
    "### Defining Loss Function and Optimizer Strategy: Gradient Descent"
   ]
  },
  {
   "cell_type": "markdown",
   "metadata": {},
   "source": [
    "### Training the model on the input dataset"
   ]
  },
  {
   "cell_type": "code",
   "execution_count": 157,
   "metadata": {},
   "outputs": [],
   "source": [
    "# Defining the parameters globally for all subsequent models\n",
    "loss = 'categorical_crossentropy'\n",
    "optimizer = 'sgd'\n",
    "metrics=['categorical_accuracy']\n",
    "batch_size=32\n",
    "epochs=15"
   ]
  },
  {
   "cell_type": "code",
   "execution_count": 69,
   "metadata": {
    "collapsed": false
   },
   "outputs": [
    {
     "name": "stdout",
     "output_type": "stream",
     "text": [
      "Epoch 1/15\n",
      "1563/1563 [==============================] - 4s 2ms/step - loss: 1.6945 - categorical_accuracy: 0.4093\n",
      "Epoch 2/15\n",
      "1563/1563 [==============================] - 3s 2ms/step - loss: 1.4419 - categorical_accuracy: 0.4960\n",
      "Epoch 3/15\n",
      "1563/1563 [==============================] - 3s 2ms/step - loss: 1.3395 - categorical_accuracy: 0.5345\n",
      "Epoch 4/15\n",
      "1563/1563 [==============================] - 3s 2ms/step - loss: 1.2660 - categorical_accuracy: 0.5605\n",
      "Epoch 5/15\n",
      "1563/1563 [==============================] - 3s 2ms/step - loss: 1.2060 - categorical_accuracy: 0.5831\n",
      "Epoch 6/15\n",
      "1563/1563 [==============================] - 3s 2ms/step - loss: 1.1530 - categorical_accuracy: 0.6017\n",
      "Epoch 7/15\n",
      "1563/1563 [==============================] - 3s 2ms/step - loss: 1.1061 - categorical_accuracy: 0.6160\n",
      "Epoch 8/15\n",
      "1563/1563 [==============================] - 3s 2ms/step - loss: 1.0613 - categorical_accuracy: 0.6334\n",
      "Epoch 9/15\n",
      "1563/1563 [==============================] - 4s 3ms/step - loss: 1.0211 - categorical_accuracy: 0.6475\n",
      "Epoch 10/15\n",
      "1563/1563 [==============================] - 4s 2ms/step - loss: 0.9828 - categorical_accuracy: 0.6599\n",
      "Epoch 11/15\n",
      "1563/1563 [==============================] - 4s 3ms/step - loss: 0.9477 - categorical_accuracy: 0.6751\n",
      "Epoch 12/15\n",
      "1563/1563 [==============================] - 4s 3ms/step - loss: 0.9077 - categorical_accuracy: 0.6909\n",
      "Epoch 13/15\n",
      "1563/1563 [==============================] - 4s 3ms/step - loss: 0.8781 - categorical_accuracy: 0.6974\n",
      "Epoch 14/15\n",
      "1563/1563 [==============================] - 4s 3ms/step - loss: 0.8462 - categorical_accuracy: 0.7088\n",
      "Epoch 15/15\n",
      "1563/1563 [==============================] - 5s 3ms/step - loss: 0.8155 - categorical_accuracy: 0.7182\n"
     ]
    }
   ],
   "source": [
    "# Compiling the model\n",
    "# This creates the whole model structure in memory. \n",
    "# If you use GPU computation, here GPU compatible structures and code is generated.\n",
    "model.compile(loss=loss, optimizer=optimizer, metrics=metrics)\n",
    "\n",
    "history = model.fit(standardized_images, class_categories, batch_size=batch_size, epochs=epochs) #, validation_data=validation_data) "
   ]
  },
  {
   "cell_type": "code",
   "execution_count": 78,
   "metadata": {
    "collapsed": false
   },
   "outputs": [
    {
     "name": "stdout",
     "output_type": "stream",
     "text": [
      "1563/1563 [==============================] - 2s 1ms/step\n",
      "Accuracy Score of model: 0.7534\n"
     ]
    }
   ],
   "source": [
    "# verify Accuracy on Train set\n",
    "predictions = model.predict(standardized_images)\n",
    "predicted_classes = np.argmax(predictions, axis=1)\n",
    "print(\"Accuracy Score of model: \" + str(accuracy_score(np.array(data[b'labels']), predicted_classes)))"
   ]
  },
  {
   "cell_type": "markdown",
   "metadata": {},
   "source": [
    "### 100% Accuracy - perfect, no?\n",
    "\n",
    "This is the accuracy on the training set. A (large, especially fully connected network with sufficient number of units) can easily learn the entire training set (especially a small one like here).\n",
    "\n",
    "This very likely leads to <b>overfitting</b>. That's why we test on an independent test set.\n"
   ]
  },
  {
   "cell_type": "markdown",
   "metadata": {},
   "source": [
    "# Testing with Test Data Set"
   ]
  },
  {
   "cell_type": "markdown",
   "metadata": {},
   "source": [
    "The test dataset contains 10.000 images with their classifications (categories are the same as with the training set). They can be found in one file (test_batch). Each class consists of 1000 images."
   ]
  },
  {
   "cell_type": "code",
   "execution_count": 82,
   "metadata": {
    "collapsed": false
   },
   "outputs": [
    {
     "name": "stdout",
     "output_type": "stream",
     "text": [
      "Found 1 files\n"
     ]
    }
   ],
   "source": [
    "test_path = 'Data\\CIFAR\\Info'\n",
    "test_files = glob.glob(os.path.join(test_path, 'test_batch'))\n",
    "print(\"Found \" + str(len(test_files)) + \" files\")"
   ]
  },
  {
   "cell_type": "code",
   "execution_count": 95,
   "metadata": {
    "collapsed": true
   },
   "outputs": [
    {
     "name": "stdout",
     "output_type": "stream",
     "text": [
      "Unpickling Data\\CIFAR\\Info\\test_batch\n",
      "# Classifications: 10000\n",
      "# Images: 10000\n",
      "# Filenames: 10000\n",
      "Shape of the image data-array: (10000, 3072)\n",
      "Groundtruth Statistics:\n",
      "Class 0: 1000\n",
      "Class 1: 1000\n",
      "Class 2: 1000\n",
      "Class 3: 1000\n",
      "Class 4: 1000\n",
      "Class 5: 1000\n",
      "Class 6: 1000\n",
      "Class 7: 1000\n",
      "Class 8: 1000\n",
      "Class 9: 1000\n"
     ]
    }
   ],
   "source": [
    "test_data = {b'labels': [], b'data': np.empty([0,3072], dtype=np.uint8) , b'filenames': [] }\n",
    "\n",
    "for filename in test_files:\n",
    "    print(\"Unpickling \" + filename)\n",
    "    newTestData = unpickle(filename)\n",
    "    test_data[b'labels'].extend(newTestData[b'labels'])\n",
    "    test_data[b'data'] = np.append(test_data[b'data'], newTestData[b'data'], axis=0)\n",
    "    test_data[b'filenames'].extend(newTestData[b'filenames'])\n",
    "    \n",
    "print(\"# Classifications: \" + str(len(test_data[b'labels'])))\n",
    "print(\"# Images: \" + str(len(test_data[b'data'])))\n",
    "print(\"# Filenames: \" + str(len(test_data[b'filenames'])))\n",
    "\n",
    "print(\"Shape of the image data-array: \" + str(test_data[b'data'].shape))\n",
    "\n",
    "print(\"Groundtruth Statistics:\")\n",
    "\n",
    "for v in set(test_data[b'labels']):\n",
    "    print(\"Class \" + str(v) + \": \" + str(test_data[b'labels'].count(v)))"
   ]
  },
  {
   "cell_type": "code",
   "execution_count": 93,
   "metadata": {
    "collapsed": false
   },
   "outputs": [
    {
     "data": {
      "image/png": "[encoded data removed]",
      "text/plain": [
       "<PIL.Image.Image image mode=RGB size=32x32>"
      ]
     },
     "execution_count": 93,
     "metadata": {},
     "output_type": "execute_result"
    }
   ],
   "source": [
    "red = np.asarray(np.split(test_data[b'data'][0][0:1024], indices_or_sections=32))\n",
    "green = np.asarray(np.split(test_data[b'data'][0][1024:2048], indices_or_sections=32))\n",
    "blue = np.asarray(np.split(test_data[b'data'][0][2048:3072], indices_or_sections=32))\n",
    "redImage = Image.fromarray(red)\n",
    "greenImage = Image.fromarray(green)\n",
    "blueImage = Image.fromarray(blue)\n",
    "Image.merge('RGB', (redImage, greenImage, blueImage))"
   ]
  },
  {
   "cell_type": "markdown",
   "metadata": {},
   "source": [
    "### Standardize Test Set\n",
    "\n",
    "The test data has to be standardized <b>in the same way</b> as the training data for compatibility with the model! That means, we take the mean and standard deviation of the <i>training data</i> to transform also the test data."
   ]
  },
  {
   "cell_type": "code",
   "execution_count": 94,
   "metadata": {
    "collapsed": false
   },
   "outputs": [
    {
     "name": "stdout",
     "output_type": "stream",
     "text": [
      "Image values statistics:\n",
      "min pixel value: 0\n",
      "max pixel value: 255\n",
      "mean pixel value: 121.52915475260417\n",
      "standard deviation: 64.06097012299574\n",
      "Standardized image's mean: -8.459899447643693e-17\n",
      "Standardized image's standard deviation: 1.000000000000001\n",
      "Standardized image's min: -1.8970857687492197\n",
      "Standardized image's max: 2.083497096455682\n"
     ]
    }
   ],
   "source": [
    "print(\"Image values statistics:\")\n",
    "print(\"min pixel value: \" + str(test_data[b'data'].min()))\n",
    "print(\"max pixel value: \" + str(test_data[b'data'].max()))\n",
    "\n",
    "mean = test_data[b'data'].mean()\n",
    "stddev = test_data[b'data'].std()\n",
    "\n",
    "print(\"mean pixel value: \" + str(mean))\n",
    "print(\"standard deviation: \" + str(stddev))\n",
    "\n",
    "standardized_test_images = (test_data[b'data'] - mean) / stddev\n",
    "print(\"Standardized image's mean: \" + str(standardized_test_images.mean()))\n",
    "print(\"Standardized image's standard deviation: \" + str(standardized_test_images.std()))\n",
    "\n",
    "print(\"Standardized image's min: \" + str(standardized_test_images.min()))\n",
    "print(\"Standardized image's max: \" + str(standardized_test_images.max()))"
   ]
  },
  {
   "cell_type": "markdown",
   "metadata": {},
   "source": [
    "### Make Predictions"
   ]
  },
  {
   "cell_type": "code",
   "execution_count": 97,
   "metadata": {
    "collapsed": false
   },
   "outputs": [
    {
     "name": "stdout",
     "output_type": "stream",
     "text": [
      "313/313 [==============================] - 0s 1ms/step\n",
      "Accuracy Score of model: 0.5272\n"
     ]
    }
   ],
   "source": [
    "# verify Accuracy on Test set\n",
    "test_predictions = model.predict(standardized_test_images)\n",
    "test_predicted_classes = np.argmax(test_predictions, axis=1)\n",
    "print(\"Accuracy Score of model: \" + str(accuracy_score(np.array(test_data[b'labels']), test_predicted_classes)))"
   ]
  },
  {
   "cell_type": "markdown",
   "metadata": {},
   "source": [
    "Accuracy on the Test Set is considerably lower compared to the accuracy of the training set."
   ]
  },
  {
   "cell_type": "markdown",
   "metadata": {},
   "source": [
    "# Convolutional Neural Network\n",
    "\n",
    "A Convolutional Neural Network (ConvNet or CNN) is a type of (deep) Neural Network that is well-suited for 2D axes data, such as images, as it is optimized for learning from spatial proximity. Its core elements are 2D filter kernels which essentially learn the weights of the Neural Network, and downscaling functions such as Max Pooling.\n",
    "\n",
    "A CNN can have one or more Convolution layers, each of them having an arbitrary number of N filters (which define the depth of the CNN layer), following typically by a pooling step, which groups neighboring pixels together and thus reduces the image resolution by retaining only the maximum values of neighboring pixels."
   ]
  },
  {
   "cell_type": "markdown",
   "metadata": {},
   "source": [
    "### Input\n",
    "\n",
    "As with the model above, our input to the CNN is the standardized version of the original image array. We already have three chanels for the colors available in the training and test sets.\n",
    "\n",
    "We should deal with edge-pixels properly though."
   ]
  },
  {
   "cell_type": "code",
   "execution_count": 103,
   "metadata": {},
   "outputs": [
    {
     "data": {
      "text/plain": [
       "array([-1.47634377, -1.61663979, -1.67899357, ..., -1.46075533,\n",
       "       -1.47634377, -1.46075533])"
      ]
     },
     "execution_count": 103,
     "metadata": {},
     "output_type": "execute_result"
    }
   ],
   "source": [
    "standardized_images[0]"
   ]
  },
  {
   "cell_type": "code",
   "execution_count": 113,
   "metadata": {
    "collapsed": false
   },
   "outputs": [],
   "source": [
    "channels = 3\n",
    "image_height = 32\n",
    "\n",
    "train_images = standardized_images.reshape(standardized_images.shape[0], image_height, image_height, channels)\n",
    "test_images = standardized_test_images.reshape(standardized_test_images.shape[0], image_height, image_height, channels)"
   ]
  },
  {
   "cell_type": "code",
   "execution_count": 116,
   "metadata": {
    "collapsed": false
   },
   "outputs": [
    {
     "name": "stdout",
     "output_type": "stream",
     "text": [
      "Dimensions training dataset: (50000, 3072)\n",
      "Dimensions testing dataset: (10000, 3072)\n"
     ]
    }
   ],
   "source": [
    "print(\"Dimensions training dataset: \" + str(standardized_images.shape))\n",
    "print(\"Dimensions testing dataset: \" + str(standardized_test_images.shape))"
   ]
  },
  {
   "cell_type": "code",
   "execution_count": 117,
   "metadata": {
    "collapsed": false
   },
   "outputs": [
    {
     "name": "stdout",
     "output_type": "stream",
     "text": [
      "Dimensions training dataset reshaped: (50000, 32, 32, 3)\n",
      "Dimensions testing dataset reshaped: (10000, 32, 32, 3)\n"
     ]
    }
   ],
   "source": [
    "print(\"Dimensions training dataset reshaped: \" + str(train_images.shape))\n",
    "print(\"Dimensions testing dataset reshaped: \" + str(test_images.shape))"
   ]
  },
  {
   "cell_type": "code",
   "execution_count": 126,
   "metadata": {
    "collapsed": false
   },
   "outputs": [
    {
     "data": {
      "text/plain": [
       "(32, 32, 3)"
      ]
     },
     "execution_count": 126,
     "metadata": {},
     "output_type": "execute_result"
    }
   ],
   "source": [
    "# we store the new shape of the images in the 'input_shape' variable.\n",
    "# take all dimensions except the 0th one (which is the number of images)\n",
    "    \n",
    "input_shape = train_images.shape[1:]  \n",
    "input_shape"
   ]
  },
  {
   "cell_type": "markdown",
   "metadata": {},
   "source": [
    "## Create the CNN model\n",
    "\n",
    "I have taken the model design from this source: https://www.tensorflow.org/tutorials/images/cnn\n",
    "It is designed to classify images from the CIFAR dataset as a tutorial."
   ]
  },
  {
   "cell_type": "code",
   "execution_count": 144,
   "metadata": {
    "collapsed": false
   },
   "outputs": [],
   "source": [
    "def createMyModel():\n",
    "    model = keras.Sequential()\n",
    "    model.add(keras.layers.Conv2D(input_shape[0] * 2, (3, 3), activation='relu', input_shape=input_shape))\n",
    "    model.add(keras.layers.MaxPooling2D((2, 2)))\n",
    "    model.add(keras.layers.Conv2D(input_shape[0] * 2, (3, 3), activation='relu'))\n",
    "    model.add(keras.layers.MaxPooling2D((2, 2)))\n",
    "    model.add(keras.layers.Conv2D(input_shape[0] * 2, (3, 3), activation='relu'))\n",
    "    \n",
    "    # To complete the model, you will feed the last output tensor from the convolutional base (of shape (4, 4, 64))\n",
    "    # into one or more Dense layers to perform classification. Dense layers take vectors as input (which are 1D), \n",
    "    # while the current output is a 3D tensor. First, you will flatten (or unroll) the 3D output to 1D, then add one\n",
    "    # or more Dense layers on top. CIFAR has 10 output classes, so you use a final Dense layer with 10 outputs.\n",
    "    # (Source: https://www.tensorflow.org/tutorials/images/cnn)\n",
    "    \n",
    "    model.add(keras.layers.Flatten())\n",
    "    model.add(keras.layers.Dense(64, activation='relu'))\n",
    "    model.add(keras.layers.Dense(10, activation='softmax'))\n",
    "\n",
    "    \n",
    "    return model"
   ]
  },
  {
   "cell_type": "code",
   "execution_count": 145,
   "metadata": {
    "collapsed": false
   },
   "outputs": [
    {
     "name": "stdout",
     "output_type": "stream",
     "text": [
      "Model: \"sequential_10\"\n",
      "_________________________________________________________________\n",
      " Layer (type)                Output Shape              Param #   \n",
      "=================================================================\n",
      " conv2d_14 (Conv2D)          (None, 30, 30, 64)        1792      \n",
      "                                                                 \n",
      " max_pooling2d_9 (MaxPooling  (None, 15, 15, 64)       0         \n",
      " 2D)                                                             \n",
      "                                                                 \n",
      " conv2d_15 (Conv2D)          (None, 13, 13, 64)        36928     \n",
      "                                                                 \n",
      " max_pooling2d_10 (MaxPoolin  (None, 6, 6, 64)         0         \n",
      " g2D)                                                            \n",
      "                                                                 \n",
      " conv2d_16 (Conv2D)          (None, 4, 4, 64)          36928     \n",
      "                                                                 \n",
      " flatten_4 (Flatten)         (None, 1024)              0         \n",
      "                                                                 \n",
      " dense_20 (Dense)            (None, 64)                65600     \n",
      "                                                                 \n",
      " dense_21 (Dense)            (None, 10)                650       \n",
      "                                                                 \n",
      "=================================================================\n",
      "Total params: 141,898\n",
      "Trainable params: 141,898\n",
      "Non-trainable params: 0\n",
      "_________________________________________________________________\n"
     ]
    }
   ],
   "source": [
    "cnn_model = createMyModel()\n",
    "cnn_model.summary()"
   ]
  },
  {
   "cell_type": "markdown",
   "metadata": {},
   "source": [
    "Note: If you get OverflowError: Range exceeds valid bounds in the above box, check the correct Theano vs. Tensorflow ordering in the box before and your keras.json configuration file."
   ]
  },
  {
   "cell_type": "markdown",
   "metadata": {},
   "source": [
    "## Training the CNN"
   ]
  },
  {
   "cell_type": "code",
   "execution_count": 146,
   "metadata": {
    "collapsed": true
   },
   "outputs": [
    {
     "name": "stdout",
     "output_type": "stream",
     "text": [
      "Epoch 1/15\n",
      "1563/1563 [==============================] - 38s 24ms/step - loss: 1.7803 - categorical_accuracy: 0.3591\n",
      "Epoch 2/15\n",
      "1563/1563 [==============================] - 38s 25ms/step - loss: 1.4543 - categorical_accuracy: 0.4830\n",
      "Epoch 3/15\n",
      "1563/1563 [==============================] - 37s 24ms/step - loss: 1.3151 - categorical_accuracy: 0.5364\n",
      "Epoch 4/15\n",
      "1563/1563 [==============================] - 37s 24ms/step - loss: 1.2173 - categorical_accuracy: 0.5726\n",
      "Epoch 5/15\n",
      "1563/1563 [==============================] - 39s 25ms/step - loss: 1.1395 - categorical_accuracy: 0.6009\n",
      "Epoch 6/15\n",
      "1563/1563 [==============================] - 38s 24ms/step - loss: 1.0766 - categorical_accuracy: 0.6238\n",
      "Epoch 7/15\n",
      "1563/1563 [==============================] - 41s 26ms/step - loss: 1.0263 - categorical_accuracy: 0.6416\n",
      "Epoch 8/15\n",
      "1563/1563 [==============================] - 42s 27ms/step - loss: 0.9776 - categorical_accuracy: 0.6592\n",
      "Epoch 9/15\n",
      "1563/1563 [==============================] - 37s 24ms/step - loss: 0.9357 - categorical_accuracy: 0.6730\n",
      "Epoch 10/15\n",
      "1563/1563 [==============================] - 35s 23ms/step - loss: 0.8960 - categorical_accuracy: 0.6854\n",
      "Epoch 11/15\n",
      "1563/1563 [==============================] - 35s 23ms/step - loss: 0.8583 - categorical_accuracy: 0.6991\n",
      "Epoch 12/15\n",
      "1563/1563 [==============================] - 35s 23ms/step - loss: 0.8254 - categorical_accuracy: 0.7114\n",
      "Epoch 13/15\n",
      "1563/1563 [==============================] - 38s 24ms/step - loss: 0.7875 - categorical_accuracy: 0.7267\n",
      "Epoch 14/15\n",
      "1563/1563 [==============================] - 37s 24ms/step - loss: 0.7552 - categorical_accuracy: 0.7352\n",
      "Epoch 15/15\n",
      "1563/1563 [==============================] - 37s 24ms/step - loss: 0.7222 - categorical_accuracy: 0.7460\n"
     ]
    }
   ],
   "source": [
    "cnn_model.compile(loss=loss, optimizer=optimizer, metrics=metrics)\n",
    "\n",
    "history = cnn_model.fit(train_images, class_categories, batch_size=batch_size, epochs=epochs)\n"
   ]
  },
  {
   "cell_type": "markdown",
   "metadata": {},
   "source": [
    "A quick increase in accuracy and - after a few epochs - a stagnation in the gain of accuracy can be observed when training the model. However, as seen above, this accuracy must be considered with caution, since it probably will not perform as good on unseen (test) data."
   ]
  },
  {
   "cell_type": "markdown",
   "metadata": {},
   "source": [
    "### Verifying Accuracy on Test Set"
   ]
  },
  {
   "cell_type": "code",
   "execution_count": 149,
   "metadata": {
    "collapsed": false
   },
   "outputs": [
    {
     "name": "stdout",
     "output_type": "stream",
     "text": [
      "313/313 [==============================] - 3s 9ms/step\n",
      "Accuracy Score of model: 0.6283\n"
     ]
    }
   ],
   "source": [
    "# verify Accuracy on Train set\n",
    "predictions = cnn_model.predict(test_images)\n",
    "predicted_classes = np.argmax(predictions, axis=1)\n",
    "print(\"Accuracy Score of model: \" + str(accuracy_score(np.array(test_data[b'labels']), predicted_classes)))"
   ]
  },
  {
   "cell_type": "markdown",
   "metadata": {},
   "source": [
    "As suspected, the accuracy achieved with the test data is considerably lower than with the training data."
   ]
  },
  {
   "cell_type": "markdown",
   "metadata": {},
   "source": [
    "### Plotting the Training Curve\n",
    "\n",
    "The `model.fit` function returns a history including the evolution of training and validation loss and accuracy. We can plot it to see a nice training curve."
   ]
  },
  {
   "cell_type": "code",
   "execution_count": 151,
   "metadata": {
    "collapsed": false
   },
   "outputs": [
    {
     "data": {
      "text/plain": [
       "dict_keys(['loss', 'categorical_accuracy'])"
      ]
     },
     "execution_count": 151,
     "metadata": {},
     "output_type": "execute_result"
    }
   ],
   "source": [
    "training_history = history.history\n",
    "training_history.keys()"
   ]
  },
  {
   "cell_type": "code",
   "execution_count": 152,
   "metadata": {
    "collapsed": false
   },
   "outputs": [
    {
     "data": {
      "text/plain": [
       "<matplotlib.legend.Legend at 0x1cd55fbb640>"
      ]
     },
     "execution_count": 152,
     "metadata": {},
     "output_type": "execute_result"
    },
    {
     "data": {
      "image/png": "[encoded data removed]",
      "text/plain": [
       "<Figure size 720x432 with 1 Axes>"
      ]
     },
     "metadata": {
      "needs_background": "light"
     },
     "output_type": "display_data"
    }
   ],
   "source": [
    "import matplotlib.pyplot as plt\n",
    "\n",
    "colors = {'loss':'r', 'categorical_accuracy':'b'}\n",
    "plt.figure(figsize=(10,6))\n",
    "plt.title(\"Training Curve\") \n",
    "plt.xlabel(\"Epoch\")\n",
    "\n",
    "for measure in training_history.keys():\n",
    "    color = colors[measure]\n",
    "    plt.plot(range(1,15+1), training_history[measure], color + '-', label=measure)  # use last 2 values to draw line\n",
    "\n",
    "plt.legend(loc='upper left', scatterpoints = 1, frameon=False)\n"
   ]
  },
  {
   "cell_type": "markdown",
   "metadata": {},
   "source": [
    "#### Conclusion\n",
    "Even though the accuracy of the training set can't be achieved entirely, the accuracy with the test set is not terribly lower. It is significat however and shows that the accuracy achieved with the training set must not be trusted blindly."
   ]
  },
  {
   "cell_type": "markdown",
   "metadata": {
    "collapsed": true
   },
   "source": [
    "# Data Augmentation\n",
    "\n",
    "Increase the training set by adding more images: Rotate, shift, flip and scale the original images to generate additional examples that will help the Neural Network to generalize better."
   ]
  },
  {
   "cell_type": "code",
   "execution_count": 153,
   "metadata": {
    "collapsed": true
   },
   "outputs": [],
   "source": [
    "from keras.preprocessing.image import ImageDataGenerator\n",
    "\n",
    "datagen = ImageDataGenerator(\n",
    "    rotation_range=20,\n",
    "    width_shift_range=0.2,\n",
    "    height_shift_range=0.2,\n",
    "    zoom_range=0.2,\n",
    "    horizontal_flip=True)"
   ]
  },
  {
   "cell_type": "code",
   "execution_count": 154,
   "metadata": {
    "collapsed": true
   },
   "outputs": [
    {
     "data": {
      "text/plain": [
       "array([3, 8, 8, ..., 5, 1, 7])"
      ]
     },
     "execution_count": 154,
     "metadata": {},
     "output_type": "execute_result"
    }
   ],
   "source": [
    "# ImageDataGenerator needs the classes as Numpy array instead of normal list\n",
    "np.array(test_data[b'labels'])"
   ]
  },
  {
   "cell_type": "code",
   "execution_count": 155,
   "metadata": {
    "collapsed": true
   },
   "outputs": [],
   "source": [
    "np.random.seed(0) # enforce repeatable result"
   ]
  },
  {
   "cell_type": "code",
   "execution_count": 160,
   "metadata": {
    "collapsed": false
   },
   "outputs": [
    {
     "name": "stdout",
     "output_type": "stream",
     "text": [
      "Epoch 1/15\n",
      "1563/1563 [==============================] - 38s 24ms/step - loss: 2.0654 - categorical_accuracy: 0.2345\n",
      "Epoch 2/15\n",
      "1563/1563 [==============================] - 38s 24ms/step - loss: 1.8870 - categorical_accuracy: 0.3035\n",
      "Epoch 3/15\n",
      "1563/1563 [==============================] - 40s 25ms/step - loss: 1.8222 - categorical_accuracy: 0.3276\n",
      "Epoch 4/15\n",
      "1563/1563 [==============================] - 38s 24ms/step - loss: 1.7740 - categorical_accuracy: 0.3494\n",
      "Epoch 5/15\n",
      "1563/1563 [==============================] - 33s 21ms/step - loss: 1.7345 - categorical_accuracy: 0.3660\n",
      "Epoch 6/15\n",
      "1563/1563 [==============================] - 37s 24ms/step - loss: 1.6900 - categorical_accuracy: 0.3848\n",
      "Epoch 7/15\n",
      "1563/1563 [==============================] - 37s 24ms/step - loss: 1.6603 - categorical_accuracy: 0.3975\n",
      "Epoch 8/15\n",
      "1563/1563 [==============================] - 40s 26ms/step - loss: 1.6262 - categorical_accuracy: 0.4114\n",
      "Epoch 9/15\n",
      "1563/1563 [==============================] - 41s 26ms/step - loss: 1.6040 - categorical_accuracy: 0.4207\n",
      "Epoch 10/15\n",
      "1563/1563 [==============================] - 44s 28ms/step - loss: 1.5806 - categorical_accuracy: 0.4289\n",
      "Epoch 11/15\n",
      "1563/1563 [==============================] - 42s 27ms/step - loss: 1.5583 - categorical_accuracy: 0.4394\n",
      "Epoch 12/15\n",
      "1563/1563 [==============================] - 43s 27ms/step - loss: 1.5397 - categorical_accuracy: 0.4443\n",
      "Epoch 13/15\n",
      "1563/1563 [==============================] - 44s 28ms/step - loss: 1.5234 - categorical_accuracy: 0.4525\n",
      "Epoch 14/15\n",
      "1563/1563 [==============================] - 39s 25ms/step - loss: 1.5080 - categorical_accuracy: 0.4573\n",
      "Epoch 15/15\n",
      "1563/1563 [==============================] - 44s 28ms/step - loss: 1.4941 - categorical_accuracy: 0.4624\n"
     ]
    }
   ],
   "source": [
    "# recreate and recompile the model (otherwise we continue learning)\n",
    "augmented_model = createMyModel()\n",
    "augmented_model.compile(loss=loss, optimizer=optimizer, metrics=metrics)\n",
    "\n",
    "# fits the model on batches with real-time data augmentation:\n",
    "history = augmented_model.fit(datagen.flow(train_images, class_categories, batch_size=batch_size), batch_size=batch_size, epochs=epochs) "
   ]
  },
  {
   "cell_type": "markdown",
   "metadata": {},
   "source": [
    "### Verifying Accuracy on Test Set (with Data Augmentation)"
   ]
  },
  {
   "cell_type": "code",
   "execution_count": 161,
   "metadata": {
    "collapsed": false
   },
   "outputs": [
    {
     "name": "stdout",
     "output_type": "stream",
     "text": [
      "313/313 [==============================] - 4s 11ms/step\n",
      "Accuracy Score of model: 0.4546\n"
     ]
    }
   ],
   "source": [
    "# verify Accuracy on Train set\n",
    "predictions = augmented_model.predict(test_images)\n",
    "predicted_classes = np.argmax(predictions, axis=1)\n",
    "print(\"Accuracy Score of model: \" + str(accuracy_score(np.array(test_data[b'labels']), predicted_classes)))"
   ]
  },
  {
   "cell_type": "markdown",
   "metadata": {
    "collapsed": true
   },
   "source": [
    "# Conclusion\n",
    "\n",
    "In this instance, data augmentation did not achieve better accuracy values. This might be, because the images are too small for rotation and zoom to give any diversification in trainable images."
   ]
  },
  {
   "cell_type": "markdown",
   "metadata": {
    "collapsed": true
   },
   "source": [
    "### Plotting the Training Curve with Data Augmentation "
   ]
  },
  {
   "cell_type": "code",
   "execution_count": 162,
   "metadata": {
    "collapsed": false
   },
   "outputs": [
    {
     "data": {
      "text/plain": [
       "<matplotlib.legend.Legend at 0x1cd59b39810>"
      ]
     },
     "execution_count": 162,
     "metadata": {},
     "output_type": "execute_result"
    },
    {
     "data": {
      "image/png": "[encoded data removed]",
      "text/plain": [
       "<Figure size 720x432 with 1 Axes>"
      ]
     },
     "metadata": {
      "needs_background": "light"
     },
     "output_type": "display_data"
    }
   ],
   "source": [
    "hist = history.history\n",
    "\n",
    "plt.figure(figsize=(10,6))\n",
    "plt.title(\"Training Curve\") \n",
    "plt.xlabel(\"Epoch\")\n",
    "\n",
    "for measure in hist.keys():\n",
    "    color = colors[measure]\n",
    "    plt.plot(range(1,epochs+1), hist[measure], color + '-', label=measure)  # use last 2 values to draw line\n",
    "\n",
    "plt.legend(loc='upper left', scatterpoints = 1, frameon=False)\n"
   ]
  },
  {
   "cell_type": "markdown",
   "metadata": {},
   "source": [
    "The training accuracy does not increase as fast and stops considerably lower than with the un-augmented data."
   ]
  },
  {
   "cell_type": "markdown",
   "metadata": {},
   "source": [
    "# Conclusion:\n",
    "\n",
    "The CNN performs better than the fully connected NN. However, augmenting the training data does not imporove accuracy performance. The CIFAR images seem to be resistant to augmentation because of their small size and therefore low reolution. Training the models is rather fast. The CNN is considerably slower, but with only 50000 images, it is still reasonable."
   ]
  }
 ],
 "metadata": {
  "kernelspec": {
   "display_name": "Python 3.10.5 64-bit",
   "language": "python",
   "name": "python3"
  },
  "language_info": {
   "codemirror_mode": {
    "name": "ipython",
    "version": 3
   },
   "file_extension": ".py",
   "mimetype": "text/x-python",
   "name": "python",
   "nbconvert_exporter": "python",
   "pygments_lexer": "ipython3",
   "version": "3.10.5"
  },
  "vscode": {
   "interpreter": {
    "hash": "14168f5bff84b5ed7e5e625d87137c837ac6ddab66f8b46da01ce5866a8afee8"
   }
  }
 },
 "nbformat": 4,
 "nbformat_minor": 0
}
