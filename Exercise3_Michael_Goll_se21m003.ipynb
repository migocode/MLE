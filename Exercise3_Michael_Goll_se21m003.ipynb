{
 "cells": [
  {
   "cell_type": "code",
   "execution_count": 574,
   "metadata": {},
   "outputs": [],
   "source": [
    "import time as time\n",
    "from tabulate import tabulate\n",
    "\n",
    "import pandas as pd\n",
    "from pandas import DataFrame\n",
    "\n",
    "import numpy as np\n",
    "\n",
    "from sklearn.model_selection import train_test_split\n",
    "from sklearn.metrics import accuracy_score\n",
    "from sklearn.metrics import f1_score\n",
    "from sklearn import preprocessing\n",
    "from sklearn import neighbors\n",
    "from sklearn import linear_model\n",
    "from sklearn import tree\n",
    "from sklearn import ensemble\n",
    "from sklearn import svm"
   ]
  },
  {
   "cell_type": "markdown",
   "metadata": {},
   "source": [
    "# Data Collection & Pre-Processing"
   ]
  },
  {
   "cell_type": "code",
   "execution_count": 575,
   "metadata": {},
   "outputs": [],
   "source": [
    "breast_cancer = pd.read_csv(r'G:\\My Drive\\FH_Technikum\\MSC\\Semester_2_SS2022\\MLE\\Data\\breast-cancer-diagnostic.shuf.lrn.csv')\n",
    "breast_cancer_data = breast_cancer.loc[:, ~breast_cancer.columns.isin(['ID', 'class'])]\n",
    "breast_cancer_class = breast_cancer.loc[:, breast_cancer.columns == 'class']\n",
    "breast_cancer_ids = breast_cancer.loc[:, breast_cancer.columns == 'ID']\n",
    "\n",
    "# Encoding classes (true, false) to numerical values\n",
    "le_breast_cancer_class = preprocessing.LabelEncoder()\n",
    "breast_cancer_class = le_breast_cancer_class.fit_transform(breast_cancer_class.values.ravel())\n",
    "breast_cancer_class = DataFrame(breast_cancer_class)"
   ]
  },
  {
   "cell_type": "code",
   "execution_count": 576,
   "metadata": {},
   "outputs": [
    {
     "name": "stderr",
     "output_type": "stream",
     "text": [
      "C:\\Users\\mailb\\AppData\\Local\\Temp\\ipykernel_12644\\3392810928.py:15: SettingWithCopyWarning: \n",
      "A value is trying to be set on a copy of a slice from a DataFrame.\n",
      "Try using .loc[row_indexer,col_indexer] = value instead\n",
      "\n",
      "See the caveats in the documentation: https://pandas.pydata.org/pandas-docs/stable/user_guide/indexing.html#returning-a-view-versus-a-copy\n",
      "  stroke_data.loc[:,'gender'] = le_gender.fit_transform(stroke_data['gender'].values.ravel())\n",
      "C:\\Users\\mailb\\AppData\\Local\\Temp\\ipykernel_12644\\3392810928.py:18: SettingWithCopyWarning: \n",
      "A value is trying to be set on a copy of a slice from a DataFrame.\n",
      "Try using .loc[row_indexer,col_indexer] = value instead\n",
      "\n",
      "See the caveats in the documentation: https://pandas.pydata.org/pandas-docs/stable/user_guide/indexing.html#returning-a-view-versus-a-copy\n",
      "  stroke_data.loc[:,'ever_married'] = le_gender.fit_transform(stroke_data['ever_married'].values.ravel())\n"
     ]
    },
    {
     "data": {
      "text/plain": [
       "2555"
      ]
     },
     "execution_count": 576,
     "metadata": {},
     "output_type": "execute_result"
    }
   ],
   "source": [
    "stroke = pd.read_csv(r'G:\\My Drive\\FH_Technikum\\MSC\\Semester_2_SS2022\\MLE\\Data\\stroke.shuf.lrn.csv')\n",
    "stroke['bmi'] = stroke['bmi'].fillna(0)\n",
    "\n",
    "stroke_data = stroke.loc[:, ~stroke.columns.isin(['ID', 'stroke'])]\n",
    "stroke_class = stroke.loc[:, stroke.columns == 'stroke']\n",
    "stroke_ids = stroke.loc[:, stroke.columns == 'ID']\n",
    "\n",
    "# Encoding classes (true, false) to numerical values\n",
    "le_stroke_class = preprocessing.LabelEncoder()\n",
    "stroke_class = le_stroke_class.fit_transform(stroke_class.values.ravel())\n",
    "stroke_class = DataFrame(stroke_class)\n",
    "\n",
    "# Encoding categorical string values\n",
    "le_gender = preprocessing.LabelEncoder()\n",
    "stroke_data.loc[:,'gender'] = le_gender.fit_transform(stroke_data['gender'].values.ravel())\n",
    "\n",
    "le_gender = preprocessing.LabelEncoder()\n",
    "stroke_data.loc[:,'ever_married'] = le_gender.fit_transform(stroke_data['ever_married'].values.ravel())\n",
    "\n",
    "work_data = pd.get_dummies(stroke_data['work_type'], prefix='work')\n",
    "stroke_data = stroke_data.loc[:, stroke_data.columns != 'work_type']\n",
    "stroke_data = stroke_data.join(work_data)\n",
    "\n",
    "residence_data = pd.get_dummies(stroke_data['Residence_type'], prefix='residence')\n",
    "stroke_data = stroke_data.loc[:, stroke_data.columns != 'Residence_type']\n",
    "stroke_data = stroke_data.join(residence_data)\n",
    "\n",
    "smoking_data = pd.get_dummies(stroke_data['smoking_status'], prefix='smoking')\n",
    "stroke_data = stroke_data.loc[:, stroke_data.columns != 'smoking_status']\n",
    "stroke_data = stroke_data.join(smoking_data)\n",
    "\n",
    "len(stroke)"
   ]
  },
  {
   "cell_type": "markdown",
   "metadata": {},
   "source": [
    "# Preparation for running loops"
   ]
  },
  {
   "cell_type": "code",
   "execution_count": 577,
   "metadata": {},
   "outputs": [],
   "source": [
    "# These are our feature sets; we will use each of them individually to train classifiers\n",
    "trainingSets = [\n",
    "    {'data': breast_cancer_data, 'class': breast_cancer_class, 'title': 'Breast Cancer'},\n",
    "    {'data': stroke_data, 'class': stroke_class, 'title': 'Stroke'}\n",
    "]"
   ]
  },
  {
   "cell_type": "markdown",
   "metadata": {},
   "source": [
    "# Classification"
   ]
  },
  {
   "cell_type": "markdown",
   "metadata": {},
   "source": [
    "## K-NN"
   ]
  },
  {
   "cell_type": "code",
   "execution_count": 578,
   "metadata": {},
   "outputs": [],
   "source": [
    "classifier_results_table_headers = ['Classifier', 'Parameters', 'Dataset', 'Training time (seconds)', 'Test time (seconds)', 'Accuracy', 'Weighted F1', 'Predicted values', 'Test values']\n",
    "measurements = DataFrame(columns=classifier_results_table_headers)"
   ]
  },
  {
   "cell_type": "code",
   "execution_count": 579,
   "metadata": {},
   "outputs": [
    {
     "name": "stdout",
     "output_type": "stream",
     "text": [
      "Processing training set: Breast Cancer\n",
      "Processing training set: Stroke\n"
     ]
    }
   ],
   "source": [
    "classifier_name = 'K-NN'\n",
    "\n",
    "for trainingSet in trainingSets:\n",
    "    print(\"Processing training set: \" + str(trainingSet['title']))\n",
    "\n",
    "    X_train, X_test, y_train, y_test = train_test_split(trainingSet['data'], trainingSet['class'], test_size=0.33, random_state=547998)\n",
    "\n",
    "    training_times = []\n",
    "    test_times = []\n",
    "    accuracy_measures = []\n",
    "    weithged_f1_measures = []\n",
    "    neighbors_params = [3, 5, 10]\n",
    "\n",
    "    for n_neighbors in neighbors_params:\n",
    "        classifier = neighbors.KNeighborsClassifier(n_neighbors = n_neighbors)\n",
    "\n",
    "        start_training = time.time()\n",
    "        modle = classifier.fit(X=X_train, y=y_train.values.ravel())\n",
    "        training_time = time.time() - start_training\n",
    "\n",
    "        start_testing = time.time()\n",
    "        y_pred = modle.predict(X=X_test)\n",
    "        test_time = time.time() - start_testing\n",
    "\n",
    "        accuracy = accuracy_score(y_true=y_test, y_pred=y_pred)\n",
    "        f1_measure = f1_score(y_true=y_test, y_pred=y_pred, average='weighted')\n",
    "\n",
    "        measurements.loc[len(measurements)] = [ classifier_name, 'neighbors: ' + str(n_neighbors), trainingSet['title'], training_time, test_time, accuracy, f1_measure, y_pred, y_test]\n"
   ]
  },
  {
   "cell_type": "markdown",
   "metadata": {},
   "source": [
    "## Perceptron"
   ]
  },
  {
   "cell_type": "code",
   "execution_count": 580,
   "metadata": {},
   "outputs": [
    {
     "name": "stdout",
     "output_type": "stream",
     "text": [
      "Processing training set: Breast Cancer\n",
      "Processing training set: Stroke\n"
     ]
    }
   ],
   "source": [
    "classifier_name = 'Perceptron'\n",
    "\n",
    "for trainingSet in trainingSets:\n",
    "    print(\"Processing training set: \" + str(trainingSet['title']))\n",
    "    best_f1 = 0\n",
    "    \n",
    "    X_train, X_test, y_train, y_test = train_test_split(trainingSet['data'], trainingSet['class'], test_size=0.33, random_state=547998)\n",
    "            \n",
    "    training_times = []\n",
    "    test_times = []\n",
    "    accuracy_measures = []\n",
    "    weithged_f1_measures = []\n",
    "    alphas = np.logspace(-1, 1, 5)\n",
    "    penalties = ['l2', 'l1']\n",
    "\n",
    "    for alpha in alphas:\n",
    "        for penalty in penalties:\n",
    "            classifier = linear_model.Perceptron(alpha=alpha, penalty=penalty, random_state=547998)\n",
    "\n",
    "            start_training = time.time()\n",
    "            modle = classifier.fit(X=X_train, y=y_train.values.ravel())\n",
    "            training_time = time.time() - start_training\n",
    "\n",
    "            start_testing = time.time()\n",
    "            y_pred = modle.predict(X=X_test)\n",
    "            test_time = time.time() - start_testing\n",
    "            \n",
    "            accuracy = accuracy_score(y_true=y_test, y_pred=y_pred)\n",
    "            f1_measure = f1_score(y_true=y_test, y_pred=y_pred, average='weighted')\n",
    "\n",
    "            measurements.loc[len(measurements)] = [ classifier_name, 'alpha: ' + str(alpha) + ' penalty: ' + str(penalty), trainingSet['title'], training_time, test_time, accuracy, f1_measure, y_pred, y_test]"
   ]
  },
  {
   "cell_type": "markdown",
   "metadata": {},
   "source": [
    "## Decision Tree"
   ]
  },
  {
   "cell_type": "code",
   "execution_count": 581,
   "metadata": {},
   "outputs": [
    {
     "name": "stdout",
     "output_type": "stream",
     "text": [
      "Processing training set: Breast Cancer\n",
      "Processing training set: Stroke\n"
     ]
    }
   ],
   "source": [
    "classifier_name = 'Decision Tree'\n",
    "\n",
    "for trainingSet in trainingSets:\n",
    "    print(\"Processing training set: \" + str(trainingSet['title']))\n",
    "    \n",
    "    X_train, X_test, y_train, y_test = train_test_split(trainingSet['data'], trainingSet['class'], test_size=0.33, random_state=547998)\n",
    "            \n",
    "    training_times = []\n",
    "    test_times = []\n",
    "    accuracy_measures = []\n",
    "    weithged_f1_measures = []\n",
    "    min_samples_splits = [2, 50, 100, 1000]\n",
    "    min_samples_leafs = [1, 50, 100, 1000]\n",
    "\n",
    "    for min_samples_split in min_samples_splits:\n",
    "        for min_samples_leaf in min_samples_leafs:\n",
    "            classifier = tree.DecisionTreeClassifier(criterion='gini', splitter='best', min_samples_split=min_samples_split, min_samples_leaf=min_samples_leaf, random_state=547998)\n",
    "\n",
    "            start_training = time.time()\n",
    "            modle = classifier.fit(X=X_train, y=y_train.values.ravel())\n",
    "            training_time = time.time() - start_training\n",
    "\n",
    "            start_testing = time.time()\n",
    "            y_pred = modle.predict(X=X_test)\n",
    "            test_time = time.time() - start_testing\n",
    "            \n",
    "            accuracy = accuracy_score(y_true=y_test, y_pred=y_pred)\n",
    "            f1_measure = f1_score(y_true=y_test, y_pred=y_pred, average='weighted')\n",
    "\n",
    "            measurements.loc[len(measurements)] = [ classifier_name, 'min. samples/split: ' + str(min_samples_split) + ' min. samples/leaf: ' + str(min_samples_leaf), trainingSet['title'], training_time, test_time, accuracy, f1_measure, y_pred, y_test]"
   ]
  },
  {
   "cell_type": "markdown",
   "metadata": {},
   "source": [
    "## Random Forest"
   ]
  },
  {
   "cell_type": "code",
   "execution_count": 582,
   "metadata": {},
   "outputs": [
    {
     "name": "stdout",
     "output_type": "stream",
     "text": [
      "Processing training set: Breast Cancer\n",
      "Processing training set: Stroke\n"
     ]
    }
   ],
   "source": [
    "classifier_name = 'Random Forest'\n",
    "\n",
    "for trainingSet in trainingSets:\n",
    "    print(\"Processing training set: \" + str(trainingSet['title']))\n",
    "    \n",
    "    X_train, X_test, y_train, y_test = train_test_split(trainingSet['data'], trainingSet['class'], test_size=0.33, random_state=547998)\n",
    "            \n",
    "    training_times = []\n",
    "    test_times = []\n",
    "    accuracy_measures = []\n",
    "    weithged_f1_measures = []\n",
    "    n_estimators = [20, 100] # = Number of trees\n",
    "    max_features = ['sqrt', 'log2']\n",
    "\n",
    "    for n_estimators_value in n_estimators:\n",
    "        for max_features_value in max_features:\n",
    "            classifier = ensemble.RandomForestClassifier(n_estimators=n_estimators_value, max_features=max_features_value, random_state=547998)\n",
    "\n",
    "            start_training = time.time()\n",
    "            modle = classifier.fit(X=X_train, y=y_train.values.ravel())\n",
    "            training_time = time.time() - start_training\n",
    "\n",
    "            start_testing = time.time()\n",
    "            y_pred = modle.predict(X=X_test)\n",
    "            test_time = time.time() - start_testing\n",
    "            \n",
    "            accuracy = accuracy_score(y_true=y_test, y_pred=y_pred)\n",
    "            f1_measure = f1_score(y_true=y_test, y_pred=y_pred, average='weighted')\n",
    "\n",
    "\n",
    "            measurements.loc[len(measurements)] = [ classifier_name, 'n estimators: ' + str(n_estimators_value) + ' max. feaatures: ' + str(max_features_value), trainingSet['title'], training_time, test_time, accuracy, f1_measure, y_pred, y_test]"
   ]
  },
  {
   "cell_type": "markdown",
   "metadata": {},
   "source": [
    "## SVM (SVC-Classifier)"
   ]
  },
  {
   "cell_type": "code",
   "execution_count": 583,
   "metadata": {},
   "outputs": [
    {
     "name": "stdout",
     "output_type": "stream",
     "text": [
      "Processing training set: Breast Cancer\n",
      "Processing training set: Stroke\n"
     ]
    }
   ],
   "source": [
    "classifier_name = 'SVC'\n",
    "\n",
    "for trainingSet in trainingSets:\n",
    "    print(\"Processing training set: \" + str(trainingSet['title']))\n",
    "\n",
    "    X_train, X_test, y_train, y_test = train_test_split(trainingSet['data'], trainingSet['class'], test_size=0.33, random_state=547998)\n",
    "\n",
    "    training_times = []\n",
    "    test_times = []\n",
    "    accuracy_measures = []\n",
    "    weithged_f1_measures = []\n",
    "\n",
    "    classifier = svm.SVC(random_state=547998)\n",
    "\n",
    "    start_training = time.time()\n",
    "    modle = classifier.fit(X=X_train, y=y_train.values.ravel())\n",
    "    training_time = time.time() - start_training\n",
    "\n",
    "    start_testing = time.time()\n",
    "    y_pred = modle.predict(X=X_test)\n",
    "    test_time = time.time() - start_testing\n",
    "    \n",
    "    accuracy = accuracy_score(y_true=y_test, y_pred=y_pred)\n",
    "    f1_measure = f1_score(y_true=y_test, y_pred=y_pred, average='weighted')\n",
    "\n",
    "    measurements.loc[len(measurements)] = [ classifier_name, 'SVC default', trainingSet['title'], training_time, test_time, accuracy, f1_measure, y_pred, y_test]"
   ]
  },
  {
   "cell_type": "markdown",
   "metadata": {},
   "source": [
    "## Results"
   ]
  },
  {
   "cell_type": "code",
   "execution_count": 584,
   "metadata": {},
   "outputs": [
    {
     "name": "stdout",
     "output_type": "stream",
     "text": [
      "|    | Classifier    | Parameters                                       | Dataset       |   Training time (seconds) |   Test time (seconds) |   Accuracy |   Weighted F1 |\n",
      "|----+---------------+--------------------------------------------------+---------------+---------------------------+-----------------------+------------+---------------|\n",
      "|  0 | K-NN          | neighbors: 3                                     | Breast Cancer |                   0.00107 |               0.00317 |    0.89474 |       0.89443 |\n",
      "|  1 | K-NN          | neighbors: 5                                     | Breast Cancer |                   0.001   |               0.002   |    0.85263 |       0.8522  |\n",
      "|  2 | K-NN          | neighbors: 10                                    | Breast Cancer |                   0.00102 |               0.00199 |    0.87368 |       0.87221 |\n",
      "|  3 | K-NN          | neighbors: 3                                     | Stroke        |                   0.00102 |               0.03899 |    0.94905 |       0.93745 |\n",
      "|  4 | K-NN          | neighbors: 5                                     | Stroke        |                   0.001   |               0.047   |    0.95379 |       0.9347  |\n",
      "|  5 | K-NN          | neighbors: 10                                    | Stroke        |                   0.001   |               0.05699 |    0.95735 |       0.93648 |\n",
      "|  6 | Perceptron    | alpha: 0.1 penalty: l2                           | Breast Cancer |                   0.001   |               0.001   |    0.44211 |       0.27107 |\n",
      "|  7 | Perceptron    | alpha: 0.1 penalty: l1                           | Breast Cancer |                   0.001   |               0.001   |    0.8     |       0.78597 |\n",
      "|  8 | Perceptron    | alpha: 0.31622776601683794 penalty: l2           | Breast Cancer |                   0.001   |               0       |    0.44211 |       0.27107 |\n",
      "|  9 | Perceptron    | alpha: 0.31622776601683794 penalty: l1           | Breast Cancer |                   0.001   |               0.001   |    0.87368 |       0.87368 |\n",
      "| 10 | Perceptron    | alpha: 1.0 penalty: l2                           | Breast Cancer |                   0.002   |               0       |    0.55789 |       0.39957 |\n",
      "| 11 | Perceptron    | alpha: 1.0 penalty: l1                           | Breast Cancer |                   0.001   |               0.001   |    0.87368 |       0.87331 |\n",
      "| 12 | Perceptron    | alpha: 3.1622776601683795 penalty: l2            | Breast Cancer |                   0.001   |               0       |    0.55789 |       0.39957 |\n",
      "| 13 | Perceptron    | alpha: 3.1622776601683795 penalty: l1            | Breast Cancer |                   0.001   |               0       |    0.87368 |       0.87394 |\n",
      "| 14 | Perceptron    | alpha: 10.0 penalty: l2                          | Breast Cancer |                   0.001   |               0.001   |    0.55789 |       0.39957 |\n",
      "| 15 | Perceptron    | alpha: 10.0 penalty: l1                          | Breast Cancer |                   0.001   |               0.001   |    0.55789 |       0.39957 |\n",
      "| 16 | Perceptron    | alpha: 0.1 penalty: l2                           | Stroke        |                   0.001   |               0.001   |    0.95735 |       0.93648 |\n",
      "| 17 | Perceptron    | alpha: 0.1 penalty: l1                           | Stroke        |                   0.003   |               0       |    0.12441 |       0.15617 |\n",
      "| 18 | Perceptron    | alpha: 0.31622776601683794 penalty: l2           | Stroke        |                   0.002   |               0.001   |    0.95735 |       0.93648 |\n",
      "| 19 | Perceptron    | alpha: 0.31622776601683794 penalty: l1           | Stroke        |                   0.003   |               0.001   |    0.95735 |       0.93648 |\n",
      "| 20 | Perceptron    | alpha: 1.0 penalty: l2                           | Stroke        |                   0.001   |               0.001   |    0.95735 |       0.93648 |\n",
      "| 21 | Perceptron    | alpha: 1.0 penalty: l1                           | Stroke        |                   0.00199 |               0.001   |    0.95735 |       0.93648 |\n",
      "| 22 | Perceptron    | alpha: 3.1622776601683795 penalty: l2            | Stroke        |                   0.002   |               0.001   |    0.95735 |       0.93648 |\n",
      "| 23 | Perceptron    | alpha: 3.1622776601683795 penalty: l1            | Stroke        |                   0.002   |               0       |    0.95735 |       0.93648 |\n",
      "| 24 | Perceptron    | alpha: 10.0 penalty: l2                          | Stroke        |                   0.002   |               0.001   |    0.95735 |       0.93648 |\n",
      "| 25 | Perceptron    | alpha: 10.0 penalty: l1                          | Stroke        |                   0.002   |               0.001   |    0.95735 |       0.93648 |\n",
      "| 26 | Decision Tree | min. samples/split: 2 min. samples/leaf: 1       | Breast Cancer |                   0.00276 |               0.00102 |    0.86316 |       0.86297 |\n",
      "| 27 | Decision Tree | min. samples/split: 2 min. samples/leaf: 50      | Breast Cancer |                   0.001   |               0.001   |    0.85263 |       0.85293 |\n",
      "| 28 | Decision Tree | min. samples/split: 2 min. samples/leaf: 100     | Breast Cancer |                   0.001   |               0       |    0.55789 |       0.39957 |\n",
      "| 29 | Decision Tree | min. samples/split: 2 min. samples/leaf: 1000    | Breast Cancer |                   0.001   |               0.001   |    0.55789 |       0.39957 |\n",
      "| 30 | Decision Tree | min. samples/split: 50 min. samples/leaf: 1      | Breast Cancer |                   0.002   |               0.001   |    0.82105 |       0.81846 |\n",
      "| 31 | Decision Tree | min. samples/split: 50 min. samples/leaf: 50     | Breast Cancer |                   0.002   |               0       |    0.85263 |       0.85293 |\n",
      "| 32 | Decision Tree | min. samples/split: 50 min. samples/leaf: 100    | Breast Cancer |                   0.001   |               0       |    0.55789 |       0.39957 |\n",
      "| 33 | Decision Tree | min. samples/split: 50 min. samples/leaf: 1000   | Breast Cancer |                   0.00199 |               0       |    0.55789 |       0.39957 |\n",
      "| 34 | Decision Tree | min. samples/split: 100 min. samples/leaf: 1     | Breast Cancer |                   0.002   |               0.001   |    0.85263 |       0.85309 |\n",
      "| 35 | Decision Tree | min. samples/split: 100 min. samples/leaf: 50    | Breast Cancer |                   0.001   |               0.001   |    0.85263 |       0.85293 |\n",
      "| 36 | Decision Tree | min. samples/split: 100 min. samples/leaf: 100   | Breast Cancer |                   0.00101 |               0.00099 |    0.55789 |       0.39957 |\n",
      "| 37 | Decision Tree | min. samples/split: 100 min. samples/leaf: 1000  | Breast Cancer |                   0.001   |               0       |    0.55789 |       0.39957 |\n",
      "| 38 | Decision Tree | min. samples/split: 1000 min. samples/leaf: 1    | Breast Cancer |                   0.001   |               0.001   |    0.55789 |       0.39957 |\n",
      "| 39 | Decision Tree | min. samples/split: 1000 min. samples/leaf: 50   | Breast Cancer |                   0.001   |               0.001   |    0.55789 |       0.39957 |\n",
      "| 40 | Decision Tree | min. samples/split: 1000 min. samples/leaf: 100  | Breast Cancer |                   0.001   |               0       |    0.55789 |       0.39957 |\n",
      "| 41 | Decision Tree | min. samples/split: 1000 min. samples/leaf: 1000 | Breast Cancer |                   0.001   |               0.001   |    0.55789 |       0.39957 |\n",
      "| 42 | Decision Tree | min. samples/split: 2 min. samples/leaf: 1       | Stroke        |                   0.004   |               0.001   |    0.91706 |       0.92268 |\n",
      "| 43 | Decision Tree | min. samples/split: 2 min. samples/leaf: 50      | Stroke        |                   0.002   |               0.001   |    0.95735 |       0.93648 |\n",
      "| 44 | Decision Tree | min. samples/split: 2 min. samples/leaf: 100     | Stroke        |                   0.002   |               0.00101 |    0.95735 |       0.93648 |\n",
      "| 45 | Decision Tree | min. samples/split: 2 min. samples/leaf: 1000    | Stroke        |                   0.00099 |               0.001   |    0.95735 |       0.93648 |\n",
      "| 46 | Decision Tree | min. samples/split: 50 min. samples/leaf: 1      | Stroke        |                   0.00399 |               0       |    0.94905 |       0.93745 |\n",
      "| 47 | Decision Tree | min. samples/split: 50 min. samples/leaf: 50     | Stroke        |                   0.003   |               0.001   |    0.95735 |       0.93648 |\n",
      "| 48 | Decision Tree | min. samples/split: 50 min. samples/leaf: 100    | Stroke        |                   0.002   |               0.001   |    0.95735 |       0.93648 |\n",
      "| 49 | Decision Tree | min. samples/split: 50 min. samples/leaf: 1000   | Stroke        |                   0.001   |               0.001   |    0.95735 |       0.93648 |\n",
      "| 50 | Decision Tree | min. samples/split: 100 min. samples/leaf: 1     | Stroke        |                   0.003   |               0.001   |    0.95498 |       0.93931 |\n",
      "| 51 | Decision Tree | min. samples/split: 100 min. samples/leaf: 50    | Stroke        |                   0.00301 |               0.00101 |    0.95735 |       0.93648 |\n",
      "| 52 | Decision Tree | min. samples/split: 100 min. samples/leaf: 100   | Stroke        |                   0.002   |               0.001   |    0.95735 |       0.93648 |\n",
      "| 53 | Decision Tree | min. samples/split: 100 min. samples/leaf: 1000  | Stroke        |                   0.00101 |               0       |    0.95735 |       0.93648 |\n",
      "| 54 | Decision Tree | min. samples/split: 1000 min. samples/leaf: 1    | Stroke        |                   0.002   |               0.00099 |    0.95735 |       0.93648 |\n",
      "| 55 | Decision Tree | min. samples/split: 1000 min. samples/leaf: 50   | Stroke        |                   0.002   |               0.001   |    0.95735 |       0.93648 |\n",
      "| 56 | Decision Tree | min. samples/split: 1000 min. samples/leaf: 100  | Stroke        |                   0.00201 |               0.001   |    0.95735 |       0.93648 |\n",
      "| 57 | Decision Tree | min. samples/split: 1000 min. samples/leaf: 1000 | Stroke        |                   0.00099 |               0.00101 |    0.95735 |       0.93648 |\n",
      "| 58 | Random Forest | n estimators: 20 max. feaatures: sqrt            | Breast Cancer |                   0.017   |               0.00306 |    0.89474 |       0.89402 |\n",
      "| 59 | Random Forest | n estimators: 20 max. feaatures: log2            | Breast Cancer |                   0.016   |               0.00202 |    0.91579 |       0.91522 |\n",
      "| 60 | Random Forest | n estimators: 100 max. feaatures: sqrt           | Breast Cancer |                   0.07129 |               0.006   |    0.90526 |       0.9044  |\n",
      "| 61 | Random Forest | n estimators: 100 max. feaatures: log2           | Breast Cancer |                   0.06759 |               0.006   |    0.89474 |       0.89443 |\n",
      "| 62 | Random Forest | n estimators: 20 max. feaatures: sqrt            | Stroke        |                   0.02524 |               0.003   |    0.95142 |       0.93351 |\n",
      "| 63 | Random Forest | n estimators: 20 max. feaatures: log2            | Stroke        |                   0.02561 |               0.00301 |    0.95142 |       0.93351 |\n",
      "| 64 | Random Forest | n estimators: 100 max. feaatures: sqrt           | Stroke        |                   0.119   |               0.012   |    0.95616 |       0.93589 |\n",
      "| 65 | Random Forest | n estimators: 100 max. feaatures: log2           | Stroke        |                   0.12212 |               0.01212 |    0.95616 |       0.93589 |\n",
      "| 66 | SVC           | SVC default                                      | Breast Cancer |                   0.002   |               0.001   |    0.86316 |       0.8603  |\n",
      "| 67 | SVC           | SVC default                                      | Stroke        |                   0.01507 |               0.01393 |    0.95735 |       0.93648 |\n"
     ]
    }
   ],
   "source": [
    "measurements_table_data = measurements.iloc[:, :7]\n",
    "decimals = 5\n",
    "measurements_table_data['Training time (seconds)'] = measurements_table_data['Training time (seconds)'].round(decimals)\n",
    "measurements_table_data['Test time (seconds)'] = measurements_table_data['Test time (seconds)'].round(decimals)\n",
    "measurements_table_data['Accuracy'] = measurements_table_data['Accuracy'].round(decimals)\n",
    "measurements_table_data['Weighted F1'] = measurements_table_data['Weighted F1'].round(decimals)\n",
    "print(tabulate(measurements_table_data, headers='keys', tablefmt='orgtbl'))"
   ]
  },
  {
   "cell_type": "code",
   "execution_count": 585,
   "metadata": {},
   "outputs": [],
   "source": [
    "measurements_table_data.to_csv('C:/Users/mailb/Desktop/results.csv', sep=';', index=False, decimal=',')"
   ]
  },
  {
   "cell_type": "markdown",
   "metadata": {},
   "source": [
    "# Retrain"
   ]
  },
  {
   "cell_type": "markdown",
   "metadata": {},
   "source": [
    "## Perceptron & Stroke Dataset"
   ]
  },
  {
   "cell_type": "markdown",
   "metadata": {},
   "source": [
    "Retraining the stroke dataset with the K-NN Classifier using 10 neighbors as this yielded the best results"
   ]
  },
  {
   "cell_type": "code",
   "execution_count": 586,
   "metadata": {},
   "outputs": [
    {
     "name": "stderr",
     "output_type": "stream",
     "text": [
      "C:\\Users\\mailb\\AppData\\Local\\Temp\\ipykernel_12644\\665273295.py:9: SettingWithCopyWarning: \n",
      "A value is trying to be set on a copy of a slice from a DataFrame.\n",
      "Try using .loc[row_indexer,col_indexer] = value instead\n",
      "\n",
      "See the caveats in the documentation: https://pandas.pydata.org/pandas-docs/stable/user_guide/indexing.html#returning-a-view-versus-a-copy\n",
      "  retrain_stroke_test_data.loc[:,'gender'] = le_gender.fit_transform(retrain_stroke_test_data['gender'].values.ravel())\n",
      "C:\\Users\\mailb\\AppData\\Local\\Temp\\ipykernel_12644\\665273295.py:12: SettingWithCopyWarning: \n",
      "A value is trying to be set on a copy of a slice from a DataFrame.\n",
      "Try using .loc[row_indexer,col_indexer] = value instead\n",
      "\n",
      "See the caveats in the documentation: https://pandas.pydata.org/pandas-docs/stable/user_guide/indexing.html#returning-a-view-versus-a-copy\n",
      "  retrain_stroke_test_data.loc[:,'ever_married'] = le_gender.fit_transform(retrain_stroke_test_data['ever_married'].values.ravel())\n"
     ]
    }
   ],
   "source": [
    "retrain_stroke_test = pd.read_csv(r'G:\\My Drive\\FH_Technikum\\MSC\\Semester_2_SS2022\\MLE\\Data\\stroke.shuf.tes.csv')\n",
    "retrain_stroke_test = retrain_stroke_test.fillna(0)\n",
    "\n",
    "retrain_stroke_test_data = retrain_stroke_test.loc[:, ~retrain_stroke_test.columns.isin(['ID'])]\n",
    "retrain_stroke_test_ids = retrain_stroke_test.loc[:, retrain_stroke_test.columns == 'ID']\n",
    "\n",
    "# Encoding categorical string values\n",
    "le_gender = preprocessing.LabelEncoder()\n",
    "retrain_stroke_test_data.loc[:,'gender'] = le_gender.fit_transform(retrain_stroke_test_data['gender'].values.ravel())\n",
    "\n",
    "le_gender = preprocessing.LabelEncoder()\n",
    "retrain_stroke_test_data.loc[:,'ever_married'] = le_gender.fit_transform(retrain_stroke_test_data['ever_married'].values.ravel())\n",
    "\n",
    "work_data = pd.get_dummies(retrain_stroke_test_data['work_type'], prefix='work')\n",
    "retrain_stroke_test_data = retrain_stroke_test_data.loc[:, retrain_stroke_test_data.columns != 'work_type']\n",
    "retrain_stroke_test_data = retrain_stroke_test_data.join(work_data)\n",
    "\n",
    "residence_data = pd.get_dummies(retrain_stroke_test_data['Residence_type'], prefix='residence')\n",
    "retrain_stroke_test_data = retrain_stroke_test_data.loc[:, retrain_stroke_test_data.columns != 'Residence_type']\n",
    "retrain_stroke_test_data = retrain_stroke_test_data.join(residence_data)\n",
    "\n",
    "smoking_data = pd.get_dummies(retrain_stroke_test_data['smoking_status'], prefix='smoking')\n",
    "retrain_stroke_test_data = retrain_stroke_test_data.loc[:, retrain_stroke_test_data.columns != 'smoking_status']\n",
    "retrain_stroke_test_data = retrain_stroke_test_data.join(smoking_data)"
   ]
  },
  {
   "cell_type": "code",
   "execution_count": 587,
   "metadata": {},
   "outputs": [],
   "source": [
    "classifier = tree.DecisionTreeClassifier(criterion='gini', splitter='best', min_samples_split=100, min_samples_leaf=1, random_state=547998)\n",
    "\n",
    "trainingSet = trainingSets[1]\n",
    "\n",
    "modle = classifier.fit(X=trainingSet['data'], y=trainingSet['class'].values.ravel())\n",
    "\n",
    "y_pred = modle.predict(X=retrain_stroke_test_data)\n",
    "\n",
    "retrain_stroke_prediction = DataFrame(index=retrain_stroke_test_ids.ID)\n",
    "retrain_stroke_prediction['stroke'] = le_stroke_class.inverse_transform(y_pred)\n",
    "\n",
    "retrain_stroke_prediction.to_csv('C:/Users/mailb/Desktop/stroke_predictions.csv', sep=',', index=True, decimal=',', index_label='ID')\n"
   ]
  },
  {
   "cell_type": "markdown",
   "metadata": {},
   "source": [
    "## Random Forest & Cancer Dataset"
   ]
  },
  {
   "cell_type": "markdown",
   "metadata": {},
   "source": [
    "Retraining the cancer dataset with the Random Forest Classifier using n-estimators 20 and max. features log2 as parameters."
   ]
  },
  {
   "cell_type": "code",
   "execution_count": 588,
   "metadata": {},
   "outputs": [],
   "source": [
    "retrain_cancer_test = pd.read_csv(r'G:\\My Drive\\FH_Technikum\\MSC\\Semester_2_SS2022\\MLE\\Data\\breast-cancer-diagnostic.shuf.tes.csv')\n",
    "retrain_cancer_test_data = retrain_cancer_test.loc[:, ~retrain_cancer_test.columns.isin(['ID'])]\n",
    "retrain_cancer_test_ids = retrain_cancer_test.loc[:, retrain_cancer_test.columns == 'ID']"
   ]
  },
  {
   "cell_type": "code",
   "execution_count": 589,
   "metadata": {},
   "outputs": [],
   "source": [
    "classifier = ensemble.RandomForestClassifier(n_estimators=20, max_features='log2', random_state=547998)\n",
    "\n",
    "trainingSet = trainingSets[0]\n",
    "\n",
    "modle = classifier.fit(X=trainingSet['data'], y=trainingSet['class'].values.ravel())\n",
    "\n",
    "y_pred = modle.predict(X=retrain_cancer_test_data)\n",
    "\n",
    "retrain_stroke_prediction = DataFrame(index=retrain_cancer_test_ids.ID)\n",
    "retrain_stroke_prediction['class'] = le_breast_cancer_class.inverse_transform(y_pred)\n",
    "\n",
    "retrain_stroke_prediction.to_csv('C:/Users/mailb/Desktop/cancer_predictions.csv', sep=',', index=True, decimal=',', index_label='ID')"
   ]
  }
 ],
 "metadata": {
  "interpreter": {
   "hash": "14168f5bff84b5ed7e5e625d87137c837ac6ddab66f8b46da01ce5866a8afee8"
  },
  "kernelspec": {
   "display_name": "Python 3.10.4 64-bit",
   "language": "python",
   "name": "python3"
  },
  "language_info": {
   "codemirror_mode": {
    "name": "ipython",
    "version": 3
   },
   "file_extension": ".py",
   "mimetype": "text/x-python",
   "name": "python",
   "nbconvert_exporter": "python",
   "pygments_lexer": "ipython3",
   "version": "3.10.4"
  },
  "orig_nbformat": 4
 },
 "nbformat": 4,
 "nbformat_minor": 2
}
